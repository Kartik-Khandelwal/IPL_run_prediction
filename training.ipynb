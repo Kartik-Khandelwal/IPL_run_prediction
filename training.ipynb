{
 "metadata": {
  "language_info": {
   "codemirror_mode": {
    "name": "ipython",
    "version": 3
   },
   "file_extension": ".py",
   "mimetype": "text/x-python",
   "name": "python",
   "nbconvert_exporter": "python",
   "pygments_lexer": "ipython3",
   "version": "3.8.5"
  },
  "orig_nbformat": 2,
  "kernelspec": {
   "name": "python38532bita80e7f62f7934767ae880580cc387154",
   "display_name": "Python 3.8.5 32-bit",
   "language": "python"
  }
 },
 "nbformat": 4,
 "nbformat_minor": 2,
 "cells": [
  {
   "cell_type": "code",
   "execution_count": 64,
   "metadata": {},
   "outputs": [],
   "source": [
    "import numpy as np\n",
    "import pandas as pd\n",
    "from sklearn.model_selection import train_test_split\n",
    "from sklearn import metrics\n",
    "from sklearn.preprocessing import LabelEncoder\n",
    "from sklearn.linear_model import LinearRegression\n",
    "import joblib"
   ]
  },
  {
   "cell_type": "code",
   "execution_count": 65,
   "metadata": {},
   "outputs": [],
   "source": [
    "data = pd.read_csv('preprocessed.csv')"
   ]
  },
  {
   "cell_type": "code",
   "execution_count": 66,
   "metadata": {},
   "outputs": [],
   "source": [
    "encode_venue = LabelEncoder()\n",
    "encode_team = LabelEncoder()"
   ]
  },
  {
   "cell_type": "code",
   "execution_count": 67,
   "metadata": {},
   "outputs": [],
   "source": [
    "data['venue'] = encode_venue.fit_transform(data['venue'])\n",
    "data['batting_team'] = encode_team.fit_transform(data['batting_team'])\n",
    "data['bowling_team'] = encode_team.fit_transform(data['bowling_team'])\n",
    "data['toss_winner'] = encode_team.fit_transform(data['toss_winner'])"
   ]
  },
  {
   "cell_type": "code",
   "execution_count": 68,
   "metadata": {},
   "outputs": [
    {
     "output_type": "execute_result",
     "data": {
      "text/plain": [
       "   batting_team  Pplay1_runs  pplay twick1  bowling_team  Pplay2_runs  \\\n",
       "0            12           59             1            11           54   \n",
       "1             6           61             1            10           59   \n",
       "2             3           52             1             5           73   \n",
       "3            10           35             1             8           56   \n",
       "4            11           41             2             2           43   \n",
       "\n",
       "   pplay twick2  toss_winner  toss_decision  venue  Pitch Type  \n",
       "0             1           11              0     28           2  \n",
       "1             1           10              0     21           0  \n",
       "2             0            5              0     31           2  \n",
       "3             2            8              0     13           2  \n",
       "4             2           11              1     17           2  "
      ],
      "text/html": "<div>\n<style scoped>\n    .dataframe tbody tr th:only-of-type {\n        vertical-align: middle;\n    }\n\n    .dataframe tbody tr th {\n        vertical-align: top;\n    }\n\n    .dataframe thead th {\n        text-align: right;\n    }\n</style>\n<table border=\"1\" class=\"dataframe\">\n  <thead>\n    <tr style=\"text-align: right;\">\n      <th></th>\n      <th>batting_team</th>\n      <th>Pplay1_runs</th>\n      <th>pplay twick1</th>\n      <th>bowling_team</th>\n      <th>Pplay2_runs</th>\n      <th>pplay twick2</th>\n      <th>toss_winner</th>\n      <th>toss_decision</th>\n      <th>venue</th>\n      <th>Pitch Type</th>\n    </tr>\n  </thead>\n  <tbody>\n    <tr>\n      <th>0</th>\n      <td>12</td>\n      <td>59</td>\n      <td>1</td>\n      <td>11</td>\n      <td>54</td>\n      <td>1</td>\n      <td>11</td>\n      <td>0</td>\n      <td>28</td>\n      <td>2</td>\n    </tr>\n    <tr>\n      <th>1</th>\n      <td>6</td>\n      <td>61</td>\n      <td>1</td>\n      <td>10</td>\n      <td>59</td>\n      <td>1</td>\n      <td>10</td>\n      <td>0</td>\n      <td>21</td>\n      <td>0</td>\n    </tr>\n    <tr>\n      <th>2</th>\n      <td>3</td>\n      <td>52</td>\n      <td>1</td>\n      <td>5</td>\n      <td>73</td>\n      <td>0</td>\n      <td>5</td>\n      <td>0</td>\n      <td>31</td>\n      <td>2</td>\n    </tr>\n    <tr>\n      <th>3</th>\n      <td>10</td>\n      <td>35</td>\n      <td>1</td>\n      <td>8</td>\n      <td>56</td>\n      <td>2</td>\n      <td>8</td>\n      <td>0</td>\n      <td>13</td>\n      <td>2</td>\n    </tr>\n    <tr>\n      <th>4</th>\n      <td>11</td>\n      <td>41</td>\n      <td>2</td>\n      <td>2</td>\n      <td>43</td>\n      <td>2</td>\n      <td>11</td>\n      <td>1</td>\n      <td>17</td>\n      <td>2</td>\n    </tr>\n  </tbody>\n</table>\n</div>"
     },
     "metadata": {},
     "execution_count": 68
    }
   ],
   "source": [
    "data.head()"
   ]
  },
  {
   "cell_type": "code",
   "execution_count": 69,
   "metadata": {},
   "outputs": [
    {
     "output_type": "execute_result",
     "data": {
      "text/plain": [
       "Index(['batting_team', 'Pplay1_runs', 'pplay twick1', 'bowling_team',\n",
       "       'Pplay2_runs', 'pplay twick2', 'toss_winner', 'toss_decision', 'venue',\n",
       "       'Pitch Type'],\n",
       "      dtype='object')"
      ]
     },
     "metadata": {},
     "execution_count": 69
    }
   ],
   "source": [
    "data.columns"
   ]
  },
  {
   "cell_type": "code",
   "execution_count": 70,
   "metadata": {},
   "outputs": [],
   "source": [
    "X = data.drop(['Pplay1_runs', 'pplay twick1',\n",
    "       'Pplay2_runs', 'pplay twick2', 'toss_winner', 'toss_decision',\n",
    "       'Pitch Type'], axis=1)\n",
    "y = data['Pplay1_runs']"
   ]
  },
  {
   "cell_type": "code",
   "execution_count": 71,
   "metadata": {},
   "outputs": [],
   "source": [
    "X_train, X_test, y_train, y_test = train_test_split(X, y, test_size = 0.25, random_state=42)"
   ]
  },
  {
   "cell_type": "code",
   "execution_count": 72,
   "metadata": {},
   "outputs": [
    {
     "output_type": "stream",
     "name": "stdout",
     "text": [
      "train accuracy :  0.002389324320958619\ntest accuracy :  -0.003442203130807675\n"
     ]
    }
   ],
   "source": [
    "linear_regression = LinearRegression()\n",
    "model = linear_regression.fit(X_train, y_train)\n",
    "\n",
    "score = model.score(X_train, y_train)\n",
    "print('train accuracy : ', score)\n",
    "\n",
    "y_pred = model.predict(X_test)\n",
    "test_score = metrics.r2_score(y_test, y_pred)\n",
    "print(\"test accuracy : \", test_score)"
   ]
  },
  {
   "cell_type": "code",
   "execution_count": 73,
   "metadata": {},
   "outputs": [
    {
     "output_type": "execute_result",
     "data": {
      "text/plain": [
       "['team_encoder.joblib']"
      ]
     },
     "metadata": {},
     "execution_count": 73
    }
   ],
   "source": [
    "joblib.dump(linear_regression, 'regression_model.joblib')\n",
    "joblib.dump(encode_venue, 'venue_encoder.joblib')\n",
    "joblib.dump(encode_team, 'team_encoder.joblib')"
   ]
  },
  {
   "cell_type": "code",
   "execution_count": null,
   "metadata": {},
   "outputs": [],
   "source": []
  }
 ]
}